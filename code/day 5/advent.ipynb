{
 "cells": [
  {
   "cell_type": "code",
   "execution_count": 39,
   "id": "fc33c093-1d61-4a98-aeac-4d19d96381bd",
   "metadata": {},
   "outputs": [],
   "source": [
    "puzzle_1 = True\n",
    "\n",
    "class Line():\n",
    "    \n",
    "    x1, x2, y1, y2 = 0, 0, 0, 0\n",
    "    \n",
    "    def __init__(self, string_repr):\n",
    "        left = string_repr.split(\" -> \")[0]\n",
    "        right = string_repr.split(\" -> \")[1]\n",
    "        \n",
    "        self.x1 = int(left.split(\",\")[0])\n",
    "        self.y1 = int(left.split(\",\")[1])\n",
    "        \n",
    "        self.x2 = int(right.split(\",\")[0])\n",
    "        self.y2 = int(right.split(\",\")[1])\n",
    "        \n",
    "    def enumerate_all_points(self):\n",
    "        if self.x1 == self.x2:\n",
    "            return [(self.x1, y_cord) for y_cord in range(min(self.y1, self.y2), max(self.y1 + 1, self.y2 + 1))]\n",
    "        elif self.y1 == self.y2:\n",
    "            return [(x_cord, self.y1) for x_cord in range(min(self.x1, self.x2), max(self.x1 + 1, self.x2 + 1))]\n",
    "        elif puzzle_1:\n",
    "            return []\n",
    "        else:\n",
    "            \n",
    "            \n",
    "            if self.x1 < self.x2:\n",
    "                start = (self.x1, self.y1)\n",
    "                end = (self.x2, self.y2)\n",
    "            else:\n",
    "                start = (self.x2, self.y2)\n",
    "                end = (self.x1, self.y1)\n",
    "                \n",
    "            steps = end[0] - start[0]\n",
    "                \n",
    "            if start[1] < end[1]:\n",
    "                return [(start[0] + val, start[1] + val) for val in range(0, steps + 1)]\n",
    "            else:\n",
    "                return [(start[0] + val, start[1] - val) for val in range(0, steps + 1)]\n",
    "            \n",
    "    def __repr__(self):\n",
    "        return f\"({self.x1}, {self.y1}) - ({self.x2}, {self.y2})\""
   ]
  },
  {
   "cell_type": "code",
   "execution_count": 40,
   "id": "d0783b3b-a0bb-4033-8b9e-b923dbe8128a",
   "metadata": {},
   "outputs": [],
   "source": [
    "input_file = \"input.txt\"\n",
    "\n",
    "input_file_read = open(input_file, \"r\")\n",
    "read_lines = input_file_read.readlines()\n",
    "\n",
    "lines = [Line(line) for line in read_lines]"
   ]
  },
  {
   "cell_type": "code",
   "execution_count": 41,
   "id": "b558a66c-5df8-4190-8cad-b4d4abb876d0",
   "metadata": {},
   "outputs": [
    {
     "data": {
      "text/plain": [
       "7436"
      ]
     },
     "execution_count": 41,
     "metadata": {},
     "output_type": "execute_result"
    }
   ],
   "source": [
    "points_counted = {}\n",
    "\n",
    "for point in [point for line in lines for point in line.enumerate_all_points()]:\n",
    "    if point not in points_counted:\n",
    "        points_counted[point] = 0\n",
    "        \n",
    "    points_counted[point] += 1\n",
    "    \n",
    "    \n",
    "len([x for x in points_counted.values() if x > 1])"
   ]
  },
  {
   "cell_type": "code",
   "execution_count": 43,
   "id": "807d45a3-7bd7-4ada-a559-ec2c3ab590cb",
   "metadata": {},
   "outputs": [],
   "source": []
  },
  {
   "cell_type": "code",
   "execution_count": null,
   "id": "2158d6d6-000e-4fae-b38d-4dfa4334be80",
   "metadata": {},
   "outputs": [],
   "source": []
  }
 ],
 "metadata": {
  "kernelspec": {
   "display_name": "Python 3 (ipykernel)",
   "language": "python",
   "name": "python3"
  },
  "language_info": {
   "codemirror_mode": {
    "name": "ipython",
    "version": 3
   },
   "file_extension": ".py",
   "mimetype": "text/x-python",
   "name": "python",
   "nbconvert_exporter": "python",
   "pygments_lexer": "ipython3",
   "version": "3.9.7"
  }
 },
 "nbformat": 4,
 "nbformat_minor": 5
}
