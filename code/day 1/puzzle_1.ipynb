{
 "cells": [
  {
   "cell_type": "code",
   "execution_count": 3,
   "id": "07560ab5-210e-48da-bbc3-697bda29e090",
   "metadata": {},
   "outputs": [
    {
     "data": {
      "text/plain": [
       "1266"
      ]
     },
     "execution_count": 3,
     "metadata": {},
     "output_type": "execute_result"
    }
   ],
   "source": [
    "input_file = \"input_puzzle_1.txt\"\n",
    "\n",
    "input_file_read = open(input_file, \"r\")\n",
    "depths = input_file_read.readlines()\n",
    "\n",
    "increased = 0\n",
    "\n",
    "for i in range(len(depths) - 1):\n",
    "    if int(depths[i]) < int(depths[i + 1]):\n",
    "        increased += 1\n",
    "        \n",
    "increased"
   ]
  },
  {
   "cell_type": "code",
   "execution_count": 5,
   "id": "500728fc-4210-4b40-9133-9229d6b344e5",
   "metadata": {},
   "outputs": [
    {
     "data": {
      "text/plain": [
       "1217"
      ]
     },
     "execution_count": 5,
     "metadata": {},
     "output_type": "execute_result"
    }
   ],
   "source": [
    "triple_sums = []\n",
    "\n",
    "for i in range(len(depths) - 2):\n",
    "    triple_sums.append(int(depths[i]) + int(depths[i + 1]) + int(depths[i + 2]))\n",
    "    \n",
    "    \n",
    "triple_sum_increased = 0\n",
    "    \n",
    "for i in range(len(triple_sums) - 1):\n",
    "    if triple_sums[i] < triple_sums[i+1]:\n",
    "        triple_sum_increased += 1\n",
    "        \n",
    "triple_sum_increased"
   ]
  },
  {
   "cell_type": "code",
   "execution_count": null,
   "id": "9a72a819-40ad-4968-a036-80441b7b20b6",
   "metadata": {},
   "outputs": [],
   "source": []
  }
 ],
 "metadata": {
  "kernelspec": {
   "display_name": "Python 3 (ipykernel)",
   "language": "python",
   "name": "python3"
  },
  "language_info": {
   "codemirror_mode": {
    "name": "ipython",
    "version": 3
   },
   "file_extension": ".py",
   "mimetype": "text/x-python",
   "name": "python",
   "nbconvert_exporter": "python",
   "pygments_lexer": "ipython3",
   "version": "3.9.7"
  }
 },
 "nbformat": 4,
 "nbformat_minor": 5
}
