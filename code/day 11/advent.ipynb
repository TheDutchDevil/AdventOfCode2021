{
 "cells": [
  {
   "cell_type": "code",
   "execution_count": 90,
   "id": "079b8640-db75-4a96-b82b-4a3d5a0db77d",
   "metadata": {},
   "outputs": [],
   "source": [
    "class Octopus():\n",
    "    def __init__(self, level, pos):\n",
    "        self.level = level\n",
    "        self.pos = pos\n",
    "        self.neighbors = []\n",
    "        self.neighbor_pos = []\n",
    "        self.flashed = False\n",
    "        self.flashcounter = 0\n",
    "        \n",
    "    def add_neighbor(self, buddy):\n",
    "        if buddy.pos not in self.neighbor_pos:\n",
    "            self.neighbors.append(buddy)\n",
    "            self.neighbor_pos.append(buddy.pos)\n",
    "    \n",
    "        if self.pos not in buddy.neighbor_pos:\n",
    "            buddy.neighbors.append(self)\n",
    "            buddy.neighbor_pos.append(self.pos)\n",
    "            \n",
    "    def flash(self):\n",
    "        if not self.flashed:\n",
    "            self.flashed = True\n",
    "            self.flashcounter += 1\n",
    "            \n",
    "            for neighbor in self.neighbors:\n",
    "                \n",
    "                if neighbor.level <= 9:\n",
    "\n",
    "                    neighbor.level += 1"
   ]
  },
  {
   "cell_type": "code",
   "execution_count": 91,
   "id": "800d52e8-a61f-45d8-8ce9-59cc55b8085f",
   "metadata": {},
   "outputs": [],
   "source": [
    "import itertools\n",
    "\n",
    "input_file = \"input.txt\"\n",
    "\n",
    "input_file_read = open(input_file, \"r\")\n",
    "octo_grid = input_file_read.readlines()\n",
    "\n",
    "raw_octo = [[int(x.strip()) for x in row if x.strip() != \"\"] for row in octo_grid]\n",
    "\n",
    "    \n",
    "\n",
    "octos = {}\n",
    "\n",
    "for i in range(0, len(raw_octo)):\n",
    "    for j in range(0, len(raw_octo[0])):\n",
    "        octos[(i,j)] =  Octopus(raw_octo[i][j], (i, j))\n",
    "        \n",
    "for i in range(0, len(raw_octo)):\n",
    "    for j in range (0, len(raw_octo[0])):\n",
    "        octo = octos[(i, j)]\n",
    "        \n",
    "        neighbors = [octos[(i + offset[0], j + offset[1])] for offset in itertools.product([-1, 0, 1], [-1, 0, 1]) if (i + offset[0], j + offset[1]) != octo.pos and (i + offset[0],j + offset[1]) in octos]\n",
    "        \n",
    "        for neighbor in neighbors:\n",
    "            octo.add_neighbor(neighbor)"
   ]
  },
  {
   "cell_type": "code",
   "execution_count": 92,
   "id": "f93019d6-04ff-4797-b1e6-ea45bd763e70",
   "metadata": {},
   "outputs": [
    {
     "data": {
      "text/plain": [
       "354"
      ]
     },
     "execution_count": 92,
     "metadata": {},
     "output_type": "execute_result"
    }
   ],
   "source": [
    "should_print = False\n",
    "\n",
    "all_flashed = False\n",
    "\n",
    "iterations_performed = 0\n",
    "\n",
    "while not all_flashed:\n",
    "    for octo in octos.values():\n",
    "        octo.flashed = False\n",
    "        octo.level += 1\n",
    "        \n",
    "    \n",
    "    while len([octo for octo in octos.values() if octo.level >9 and not octo.flashed]) > 0:\n",
    "        for octo in octos.values():\n",
    "            if octo.level > 9 and not octo.flashed:\n",
    "                octo.flash()\n",
    "                \n",
    "    if len([octo for octo in octos.values() if octo.flashed]) == len(octos.values()):\n",
    "        all_flashed = True\n",
    "            \n",
    "    for octo in octos.values():\n",
    "        if octo.level > 9:\n",
    "            octo.level = 0\n",
    "            \n",
    "    iterations_performed += 1\n",
    "            \n",
    "            \n",
    "    print_arr = [ [0 for j in range(len(raw_octo[0]))] for i in range(len(raw_octo))]        \n",
    "    \n",
    "    for i in range(len(raw_octo)):\n",
    "        for j in range(len(raw_octo[0])):\n",
    "            print_arr[i][j] = octos[(i,j)].level\n",
    "            \n",
    "    if should_print:\n",
    "        for row in print_arr:\n",
    "            print(row)\n",
    "        print(\"-------------------------\")\n",
    "            \n",
    "        \n",
    "    \n",
    "sum([octo.flashcounter for octo in octos.values()])\n",
    "\n",
    "iterations_performed"
   ]
  },
  {
   "cell_type": "code",
   "execution_count": null,
   "id": "ab12867e-1260-43fc-b89c-c9b440cd4618",
   "metadata": {},
   "outputs": [],
   "source": []
  }
 ],
 "metadata": {
  "kernelspec": {
   "display_name": "Python 3 (ipykernel)",
   "language": "python",
   "name": "python3"
  },
  "language_info": {
   "codemirror_mode": {
    "name": "ipython",
    "version": 3
   },
   "file_extension": ".py",
   "mimetype": "text/x-python",
   "name": "python",
   "nbconvert_exporter": "python",
   "pygments_lexer": "ipython3",
   "version": "3.9.7"
  }
 },
 "nbformat": 4,
 "nbformat_minor": 5
}
