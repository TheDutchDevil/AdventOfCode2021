{
 "cells": [
  {
   "cell_type": "code",
   "execution_count": 3,
   "id": "d7be3b92-1f68-4e11-aa3a-05d4eb195fdf",
   "metadata": {},
   "outputs": [
    {
     "data": {
      "text/plain": [
       "2089174012"
      ]
     },
     "execution_count": 3,
     "metadata": {},
     "output_type": "execute_result"
    }
   ],
   "source": [
    "input_file = \"input.txt\"\n",
    "\n",
    "input_file_read = open(input_file, \"r\")\n",
    "steps = input_file_read.readlines()\n",
    "\n",
    "x_pos = 0\n",
    "depth = 0\n",
    "aim = 0\n",
    "\n",
    "for step in steps:\n",
    "    command = step.split(\" \")[0]\n",
    "    value = int(step.split(\" \")[1])\n",
    "    \n",
    "    if command == \"forward\":\n",
    "        x_pos += value\n",
    "        depth += aim * value\n",
    "    elif command == \"down\":\n",
    "        aim += value\n",
    "    elif command == \"up\":\n",
    "        aim -= value\n",
    "        \n",
    "x_pos * depth"
   ]
  },
  {
   "cell_type": "code",
   "execution_count": null,
   "id": "87cfdcad-fc24-43fc-b203-e25c703b0100",
   "metadata": {},
   "outputs": [],
   "source": []
  }
 ],
 "metadata": {
  "kernelspec": {
   "display_name": "Python 3 (ipykernel)",
   "language": "python",
   "name": "python3"
  },
  "language_info": {
   "codemirror_mode": {
    "name": "ipython",
    "version": 3
   },
   "file_extension": ".py",
   "mimetype": "text/x-python",
   "name": "python",
   "nbconvert_exporter": "python",
   "pygments_lexer": "ipython3",
   "version": "3.9.7"
  }
 },
 "nbformat": 4,
 "nbformat_minor": 5
}
