{
 "cells": [
  {
   "cell_type": "code",
   "execution_count": 21,
   "id": "2470a682-9aee-45f6-a1fc-1eafd7527eba",
   "metadata": {},
   "outputs": [],
   "source": [
    "class Fish():\n",
    "    pass"
   ]
  },
  {
   "cell_type": "code",
   "execution_count": 22,
   "id": "a9546747-4690-468f-8f32-5a9dc4336462",
   "metadata": {},
   "outputs": [],
   "source": [
    "input_file = \"input.txt\"\n",
    "\n",
    "input_file_read = open(input_file, \"r\")\n",
    "fish = input_file_read.readlines()\n",
    "\n",
    "fish_list = [int(x) for x in fish[0].split(\",\")]\n",
    "\n",
    "pop_counter = {}\n",
    "\n",
    "for i in range(0, 9):\n",
    "    pop_counter[i] = 0\n",
    "    \n",
    "for days_left in fish_list:\n",
    "    pop_counter[days_left] += 1"
   ]
  },
  {
   "cell_type": "code",
   "execution_count": 23,
   "id": "58a6d543-401d-4665-a0a0-35c89a3aa11f",
   "metadata": {},
   "outputs": [
    {
     "name": "stdout",
     "output_type": "stream",
     "text": [
      "1767323539209\n"
     ]
    }
   ],
   "source": [
    "fish_after_day = []\n",
    "\n",
    "new_pop_counter = {}\n",
    "\n",
    "for i in range(0, 256):\n",
    "    for j in range(0, 8):\n",
    "        new_pop_counter[8 - j - 1] = pop_counter[8 - j]\n",
    "        \n",
    "    new_pop_counter[8] = pop_counter[0]\n",
    "    new_pop_counter[6] += pop_counter[0]\n",
    "    \n",
    "    pop_counter = new_pop_counter\n",
    "    new_pop_counter = {}\n",
    "    \n",
    "print(sum(pop_counter.values()))"
   ]
  }
 ],
 "metadata": {
  "kernelspec": {
   "display_name": "Python 3 (ipykernel)",
   "language": "python",
   "name": "python3"
  },
  "language_info": {
   "codemirror_mode": {
    "name": "ipython",
    "version": 3
   },
   "file_extension": ".py",
   "mimetype": "text/x-python",
   "name": "python",
   "nbconvert_exporter": "python",
   "pygments_lexer": "ipython3",
   "version": "3.9.7"
  }
 },
 "nbformat": 4,
 "nbformat_minor": 5
}
