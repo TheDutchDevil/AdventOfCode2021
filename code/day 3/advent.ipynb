{
 "cells": [
  {
   "cell_type": "code",
   "execution_count": 15,
   "id": "c96bbf85-a4f1-4bc5-99db-9c2274d349d9",
   "metadata": {},
   "outputs": [
    {
     "name": "stdout",
     "output_type": "stream",
     "text": [
      "1000\n",
      "[475, 501, 495, 483, 499, 520, 516, 508, 490, 504, 504, 528]\n"
     ]
    },
    {
     "data": {
      "text/plain": [
       "3374136"
      ]
     },
     "execution_count": 15,
     "metadata": {},
     "output_type": "execute_result"
    }
   ],
   "source": [
    "input_file = \"input.txt\"\n",
    "\n",
    "input_file_read = open(input_file, \"r\")\n",
    "bin_nums = input_file_read.readlines()\n",
    "\n",
    "\n",
    "def count_ones(bin_nums): \n",
    "    ones_counted = [0 for x in bin_nums[0].strip()]\n",
    "\n",
    "    for bin_num in bin_nums:\n",
    "        for i in range(len(bin_num.strip())):\n",
    "            ones_counted[i] += 1 if bin_num[i] == \"1\" else 0\n",
    "            \n",
    "    return ones_counted\n",
    "\n",
    "ones_counted = count_ones(bin_nums)\n",
    "        \n",
    "gamma, epsilon = \"\", \"\"\n",
    "\n",
    "print(len(bin_nums))\n",
    "print(ones_counted)\n",
    "\n",
    "for value in ones_counted:\n",
    "    if value > len(bin_nums) - value:\n",
    "        gamma += \"1\"\n",
    "        epsilon += \"0\"\n",
    "    else:\n",
    "        gamma += \"0\"\n",
    "        epsilon += \"1\"\n",
    "        \n",
    "int(gamma, 2) * int(epsilon, 2)"
   ]
  },
  {
   "cell_type": "code",
   "execution_count": 24,
   "id": "cb065bee-ec9e-482c-8e4c-f5bc35d366dd",
   "metadata": {},
   "outputs": [
    {
     "name": "stdout",
     "output_type": "stream",
     "text": [
      "[475, 501, 495, 483, 499, 520, 516, 508, 490, 504, 504, 528]\n",
      "475\n",
      "[475, 238, 223, 225, 236, 237, 246, 235, 240, 246, 242, 242]\n",
      "237\n",
      "[237, 0, 119, 113, 116, 113, 127, 121, 125, 124, 119, 121]\n",
      "118\n",
      "[118, 0, 0, 54, 58, 52, 65, 65, 61, 63, 61, 57]\n",
      "54\n",
      "[54, 0, 0, 54, 28, 25, 32, 32, 28, 25, 25, 26]\n",
      "26\n",
      "[26, 0, 0, 26, 0, 13, 17, 13, 13, 9, 11, 12]\n",
      "13\n",
      "[13, 0, 0, 13, 0, 0, 8, 6, 6, 5, 5, 7]\n",
      "5\n",
      "[5, 0, 0, 5, 0, 0, 0, 2, 3, 1, 1, 3]\n",
      "2\n",
      "[2, 0, 0, 2, 0, 0, 0, 2, 1, 1, 1, 1]\n",
      "1\n"
     ]
    },
    {
     "data": {
      "text/plain": [
       "4432698"
      ]
     },
     "execution_count": 24,
     "metadata": {},
     "output_type": "execute_result"
    }
   ],
   "source": [
    "def keep_values_with_val_at_pos(bin_nums, pos, val):\n",
    "    return [x for x in bin_nums if x[pos] == val]\n",
    "\n",
    "curr_pos = 0\n",
    "\n",
    "search_space = bin_nums\n",
    "\n",
    "while len(search_space) > 1:\n",
    "    ones_counted = count_ones(search_space)\n",
    "    search_space = keep_values_with_val_at_pos(search_space, curr_pos, \"1\" if ones_counted[curr_pos] >= len(search_space) - ones_counted[curr_pos] else \"0\")\n",
    "    curr_pos += 1\n",
    "    \n",
    "ox_gen = search_space[0]\n",
    "\n",
    "curr_pos = 0\n",
    "\n",
    "search_space = bin_nums\n",
    "\n",
    "while len(search_space) > 1:\n",
    "    ones_counted = count_ones(search_space)\n",
    "    print(ones_counted)\n",
    "    search_space = keep_values_with_val_at_pos(search_space, curr_pos, \"1\" if ones_counted[curr_pos] < len(search_space) - ones_counted[curr_pos] else \"0\")\n",
    "    print(len(search_space))\n",
    "    curr_pos += 1\n",
    "    \n",
    "c02_rating = search_space[0]\n",
    "\n",
    "int(ox_gen, 2) * int(c02_rating, 2)"
   ]
  },
  {
   "cell_type": "code",
   "execution_count": null,
   "id": "52775f7f-7b16-44c5-9753-0abe180ad461",
   "metadata": {},
   "outputs": [],
   "source": []
  }
 ],
 "metadata": {
  "kernelspec": {
   "display_name": "Python 3 (ipykernel)",
   "language": "python",
   "name": "python3"
  },
  "language_info": {
   "codemirror_mode": {
    "name": "ipython",
    "version": 3
   },
   "file_extension": ".py",
   "mimetype": "text/x-python",
   "name": "python",
   "nbconvert_exporter": "python",
   "pygments_lexer": "ipython3",
   "version": "3.9.7"
  }
 },
 "nbformat": 4,
 "nbformat_minor": 5
}
