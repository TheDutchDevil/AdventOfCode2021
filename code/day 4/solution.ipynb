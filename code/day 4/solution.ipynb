{
 "cells": [
  {
   "cell_type": "code",
   "execution_count": 78,
   "id": "e11352ef-bb27-4654-a974-a5b9eb8d4dae",
   "metadata": {},
   "outputs": [],
   "source": [
    "class Bingo():\n",
    "    def __init__(self, rows):\n",
    "        self.rows = [row for row in rows if len(row) > 0]\n",
    "        self.marked = []\n",
    "        self.seen_calls = []\n",
    "        \n",
    "    def mark(self, number):\n",
    "        for i in range(len(self.rows)):\n",
    "            for j in range(len(self.rows[i])):\n",
    "                if self.rows[i][j] == number:\n",
    "                    self.marked.append((i, j))\n",
    "        self.seen_calls.append(number)\n",
    "                    \n",
    "    def has_won(self):\n",
    "        for row_num in range(5):\n",
    "            if len([x for x in self.marked if x[0] == row_num]) == len(self.rows[0]):\n",
    "                return True\n",
    "            \n",
    "        for col_num in range(5):\n",
    "            if len([x for x in self.marked if x[1] == col_num]) == len(self.rows[0]):\n",
    "                return True\n",
    "            \n",
    "        return False\n",
    "            \n",
    "    def sum_unmarked(self):\n",
    "        sum_of = 0\n",
    "        for i in range(len(self.rows)):\n",
    "            for j in range(len(self.rows[i])):\n",
    "                if (i, j) not in self.marked:\n",
    "                    sum_of += self.rows[i][j]\n",
    "                    \n",
    "        return sum([x for row in self.rows for  x in row if x not in self.seen_calls])\n",
    "                    \n",
    "        return sum_of\n",
    "    \n",
    "    def last_called(self):\n",
    "        return self.seen_calls[-1]\n",
    "            \n",
    "    def __repr__(self):\n",
    "        val = \"\"\n",
    "        val += f\"{self.rows}\\n\"\n",
    "        val += f\"{self.marked}\\n\"\n",
    "        val += f\"{self.seen_calls}\\n\"\n",
    "        \n",
    "        return val"
   ]
  },
  {
   "cell_type": "code",
   "execution_count": 79,
   "id": "f0441dba-385d-4d12-b382-3831d6b0d520",
   "metadata": {},
   "outputs": [
    {
     "name": "stdout",
     "output_type": "stream",
     "text": [
      "Found 100 - 100 puzzles\n",
      "[[51, 18, 87, 35, 55], [52, 85, 79, 56, 82], [83, 26, 24, 29, 43], [80, 76, 4, 45, 13], [11, 12, 99, 94, 47]]\n",
      "[(3, 2), (3, 1), (1, 2), (2, 0), (1, 0), (0, 2), (4, 0), (3, 0), (0, 0)]\n",
      "[4, 75, 74, 31, 76, 79, 27, 19, 69, 46, 98, 59, 83, 23, 90, 52, 87, 6, 11, 92, 80, 51]\n",
      "\n",
      "51\n",
      "38913\n"
     ]
    }
   ],
   "source": [
    "input_file = \"input.txt\"\n",
    "\n",
    "input_file_read = open(input_file, \"r\")\n",
    "bingo_input = input_file_read.readlines()\n",
    "\n",
    "\n",
    "            \n",
    "calls = [int(x) for x in bingo_input[0].split(\",\")]\n",
    "\n",
    "reading_puzzle = []\n",
    "\n",
    "puzzles = []\n",
    "loss_simulation_puzzles = []\n",
    "\n",
    "for line in bingo_input[1:]:\n",
    "    if line.strip() == \"\" and len(reading_puzzle) > 1:\n",
    "        puzzles.append(Bingo(reading_puzzle))\n",
    "        loss_simulation_puzzles.append(Bingo(reading_puzzle))\n",
    "        reading_puzzle = []\n",
    "    else:\n",
    "        reading_puzzle.append([int(x) for x in line.strip().split(\" \") if x != \"\"])\n",
    "if len(reading_puzzle) > 1:\n",
    "    puzzles.append(Bingo(reading_puzzle))\n",
    "    loss_simulation_puzzles.append(Bingo(reading_puzzle))\n",
    "    \n",
    "print(f\"Found {len(puzzles)} - {len(loss_simulation_puzzles)} puzzles\")\n",
    "\n",
    "seen_calls = []\n",
    "\n",
    "def simulate_calls(calls):\n",
    "    for num in calls:\n",
    "        for puzzle in puzzles:\n",
    "            puzzle.mark(num)\n",
    "\n",
    "            seen_calls.append(num)\n",
    "\n",
    "            if puzzle.has_won():\n",
    "                print(str(puzzle))\n",
    "                return puzzle\n",
    "            \n",
    "winning_puzzle = simulate_calls(calls)\n",
    "\n",
    "print(winning_puzzle.last_called())\n",
    "\n",
    "print(winning_puzzle.sum_unmarked() * winning_puzzle.last_called())"
   ]
  },
  {
   "cell_type": "code",
   "execution_count": 80,
   "id": "6af93190-bdcf-4f43-90e3-7d0e7847ce82",
   "metadata": {},
   "outputs": [
    {
     "name": "stdout",
     "output_type": "stream",
     "text": [
      "[[20, 32, 76, 50, 55], [4, 70, 14, 36, 82], [74, 10, 97, 26, 87], [61, 83, 56, 98, 71], [64, 38, 8, 65, 92]]\n",
      "[(1, 0), (2, 0), (0, 2), (3, 3), (3, 1), (2, 4), (4, 4), (3, 4), (2, 1), (1, 3), (4, 2), (1, 1), (0, 3), (0, 0), (0, 4), (4, 1), (2, 3), (1, 2), (3, 2), (4, 0), (3, 0)]\n",
      "[4, 75, 74, 31, 76, 79, 27, 19, 69, 46, 98, 59, 83, 23, 90, 52, 87, 6, 11, 92, 80, 51, 43, 5, 94, 17, 15, 67, 25, 30, 48, 47, 62, 71, 85, 58, 60, 1, 72, 99, 3, 35, 42, 10, 96, 49, 37, 36, 8, 44, 70, 40, 45, 39, 0, 63, 2, 78, 68, 53, 50, 77, 20, 55, 38, 86, 54, 93, 26, 88, 12, 91, 95, 34, 9, 14, 33, 66, 41, 13, 28, 57, 29, 73, 56, 22, 89, 21, 64, 61]\n",
      "\n",
      "16836\n"
     ]
    }
   ],
   "source": [
    "def simulate_calls_return_last_win(calls):\n",
    "    wins_seen = 0\n",
    "    for num in calls:\n",
    "        for puzzle in loss_simulation_puzzles:\n",
    "            if not puzzle.has_won():\n",
    "            \n",
    "                puzzle.mark(num)\n",
    "\n",
    "                if puzzle.has_won() and wins_seen == len(loss_simulation_puzzles) - 1:\n",
    "                    wins_seen += 1\n",
    "                    \n",
    "                    return puzzle\n",
    "                elif puzzle.has_won():\n",
    "                    wins_seen += 1\n",
    "                    \n",
    "losing_puzzle = simulate_calls_return_last_win(calls)\n",
    "\n",
    "print(losing_puzzle)\n",
    "\n",
    "print(losing_puzzle.sum_unmarked() * losing_puzzle.last_called())"
   ]
  },
  {
   "cell_type": "code",
   "execution_count": null,
   "id": "7112367b-05b8-4442-8c55-7dcbc1034de5",
   "metadata": {},
   "outputs": [],
   "source": []
  }
 ],
 "metadata": {
  "kernelspec": {
   "display_name": "Python 3 (ipykernel)",
   "language": "python",
   "name": "python3"
  },
  "language_info": {
   "codemirror_mode": {
    "name": "ipython",
    "version": 3
   },
   "file_extension": ".py",
   "mimetype": "text/x-python",
   "name": "python",
   "nbconvert_exporter": "python",
   "pygments_lexer": "ipython3",
   "version": "3.9.7"
  }
 },
 "nbformat": 4,
 "nbformat_minor": 5
}
