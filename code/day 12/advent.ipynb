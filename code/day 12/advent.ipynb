{
 "cells": [
  {
   "cell_type": "code",
   "execution_count": 24,
   "id": "69bbea32-5a82-4441-b126-7bea392e100f",
   "metadata": {},
   "outputs": [],
   "source": [
    "import sys\n",
    "sys.setrecursionlimit(3000)\n",
    "\n",
    "class Node():\n",
    "    def __init__(self, name):\n",
    "        self.name = name\n",
    "        self.is_large = name != name.lower()\n",
    "        \n",
    "    def __eq__(self, another):\n",
    "        return self.name == another.name\n",
    "    def __hash__(self):\n",
    "        return hash(self.name)\n",
    "    \n",
    "    def __repr__(self):\n",
    "        return self.name\n",
    "\n",
    "\n",
    "class Path():\n",
    "    \n",
    "    def __init__(self, start : Node):\n",
    "        self.nodes = [start]\n",
    "        \n",
    "    @classmethod\n",
    "    def from_path(cls, path, next_node : Node):\n",
    "        nodes = path.nodes[:]\n",
    "        \n",
    "        nodes.append(next_node)\n",
    "        \n",
    "        new_path = cls(nodes[0])\n",
    "        \n",
    "        new_path.nodes = nodes\n",
    "        \n",
    "        return new_path\n",
    "    \n",
    "    def is_valid(self):\n",
    "        reaches_end = self.nodes[0].name == \"start\" and self.nodes[-1].name == \"end\"\n",
    "                \n",
    "        small_nodes_only_visited_once = self.small_nodes_only_visited_once()\n",
    "        \n",
    "        return reaches_end and small_nodes_only_visited_once\n",
    "    \n",
    "    def small_nodes_only_visited_once(self):\n",
    "        small_counter = {}\n",
    "        \n",
    "        for node in self.nodes:\n",
    "            if not node.is_large:\n",
    "                if node.name not in small_counter:\n",
    "                    small_counter[node.name] = 0\n",
    "                    \n",
    "                small_counter[node.name] += 1\n",
    "                \n",
    "        if \"end\" in small_counter:\n",
    "            if self.nodes[-1].name != \"end\":\n",
    "                return False\n",
    "            \n",
    "        if small_counter[\"start\"] > 1:\n",
    "            return False\n",
    "        \n",
    "        if len([x for x in small_counter.values() if x > 1]) > 1:\n",
    "            return False\n",
    "        \n",
    "        if len([x for x in small_counter.values() if x > 2]) > 0:\n",
    "            return False\n",
    "        \n",
    "        \n",
    "                \n",
    "        return True\n",
    "    \n",
    "    def __repr__(self):\n",
    "        return \"->\".join([node.name for node in self.nodes])"
   ]
  },
  {
   "cell_type": "code",
   "execution_count": 25,
   "id": "b407ab2f-00f1-4023-bdec-a11e1f6be153",
   "metadata": {},
   "outputs": [
    {
     "name": "stdout",
     "output_type": "stream",
     "text": [
      "[BC, gt, zf, end, KH, so, NL, ly, start, LK, bt, IA, ui]\n",
      "{BC: [gt, end, start, ly, zf], gt: [BC, zf, NL, start], zf: [gt, NL, start, so, BC, ly], end: [KH, BC, LK], KH: [end, ly, ui, so], so: [NL, ly, LK, zf, bt, KH], NL: [so, zf, bt, gt, ly], ly: [so, KH, BC, zf, NL, LK], start: [BC, zf, gt], LK: [end, so, ly], bt: [NL, IA, so], IA: [bt], ui: [KH]}\n"
     ]
    }
   ],
   "source": [
    "input_file = \"input.txt\"\n",
    "\n",
    "input_file_read = open(input_file, \"r\")\n",
    "raw_graph = input_file_read.readlines()\n",
    "\n",
    "nodes = []\n",
    "\n",
    "# Key is a node, value is a list of all nodes that can be reached from this node.\n",
    "edges = {}\n",
    "\n",
    "for edge in raw_graph:\n",
    "    from_node = Node(edge.split(\"-\")[0].strip())\n",
    "    to_node = Node(edge.split(\"-\")[1].strip())\n",
    "    \n",
    "    if from_node not in nodes:\n",
    "        nodes.append(from_node)\n",
    "        \n",
    "    if to_node not in nodes:\n",
    "        nodes.append(to_node)\n",
    "        \n",
    "    if from_node not in edges:\n",
    "        edges[from_node] = []\n",
    "        \n",
    "    if to_node not in edges:\n",
    "        edges[to_node] = []\n",
    "        \n",
    "    edges[from_node].append(to_node)\n",
    "    edges[to_node].append(from_node)\n",
    "        \n",
    "print(nodes)\n",
    "\n",
    "print(edges)"
   ]
  },
  {
   "cell_type": "code",
   "execution_count": 26,
   "id": "fe53b566-1c9a-4d10-9080-9d1582820753",
   "metadata": {},
   "outputs": [
    {
     "name": "stdout",
     "output_type": "stream",
     "text": [
      "False\n"
     ]
    },
    {
     "data": {
      "text/plain": [
       "152480"
      ]
     },
     "execution_count": 26,
     "metadata": {},
     "output_type": "execute_result"
    }
   ],
   "source": [
    "start_node = [node for node in nodes if node.name == \"start\"][0]\n",
    "\n",
    "print(start_node.is_large)\n",
    "\n",
    "\n",
    "def explore_paths(path, i):\n",
    "    \n",
    "    current_node = path.nodes[-1]\n",
    "    \n",
    "    if not path.small_nodes_only_visited_once():\n",
    "        return []\n",
    "    \n",
    "    valid_paths = []\n",
    "    \n",
    "    if path.is_valid():\n",
    "        valid_paths.append(path)\n",
    "    \n",
    "    paths = [Path.from_path(path, next_node) for next_node in edges[current_node]]\n",
    "    \n",
    "    for path in paths:\n",
    "        valid_paths.extend(explore_paths(path, i + 1))\n",
    "        \n",
    "    return valid_paths\n",
    "\n",
    "valid_paths_found = explore_paths(Path(start_node), 0) \n",
    "    \n",
    "len(valid_paths_found)\n",
    "    "
   ]
  },
  {
   "cell_type": "code",
   "execution_count": null,
   "id": "848875cd-c9c2-4763-89f3-57e2a5f5db1b",
   "metadata": {},
   "outputs": [],
   "source": []
  }
 ],
 "metadata": {
  "kernelspec": {
   "display_name": "Python 3 (ipykernel)",
   "language": "python",
   "name": "python3"
  },
  "language_info": {
   "codemirror_mode": {
    "name": "ipython",
    "version": 3
   },
   "file_extension": ".py",
   "mimetype": "text/x-python",
   "name": "python",
   "nbconvert_exporter": "python",
   "pygments_lexer": "ipython3",
   "version": "3.9.7"
  }
 },
 "nbformat": 4,
 "nbformat_minor": 5
}
